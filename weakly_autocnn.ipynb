{
 "cells": [
  {
   "cell_type": "code",
   "execution_count": 1,
   "metadata": {},
   "outputs": [
    {
     "name": "stderr",
     "output_type": "stream",
     "text": [
      "Using TensorFlow backend.\n"
     ]
    }
   ],
   "source": [
    "import h5py\n",
    "import numpy as np\n",
    "import keras\n",
    "from keras.engine.topology import Layer, InputSpec\n",
    "from keras.layers import Input, Dense, Activation, Conv2D, MaxPooling2D, Flatten, Reshape, UpSampling2D\n",
    "from keras.models import Model\n",
    "from keras import backend as K\n",
    "import plotting\n",
    "import matplotlib.pyplot as plt\n",
    "%matplotlib inline\n",
    "import random\n",
    "from scipy.special import expit\n",
    "from sklearn.metrics import roc_curve, auc"
   ]
  },
  {
   "cell_type": "code",
   "execution_count": 76,
   "metadata": {},
   "outputs": [
    {
     "name": "stdout",
     "output_type": "stream",
     "text": [
      "_________________________________________________________________\n",
      "Layer (type)                 Output Shape              Param #   \n",
      "=================================================================\n",
      "input_6 (InputLayer)         (None, 40, 40, 1)         0         \n",
      "_________________________________________________________________\n",
      "conv2d_31 (Conv2D)           (None, 40, 40, 128)       1280      \n",
      "_________________________________________________________________\n",
      "max_pooling2d_11 (MaxPooling (None, 20, 20, 128)       0         \n",
      "_________________________________________________________________\n",
      "conv2d_32 (Conv2D)           (None, 20, 20, 128)       147584    \n",
      "_________________________________________________________________\n",
      "max_pooling2d_12 (MaxPooling (None, 10, 10, 128)       0         \n",
      "_________________________________________________________________\n",
      "conv2d_33 (Conv2D)           (None, 10, 10, 128)       147584    \n",
      "_________________________________________________________________\n",
      "flatten_6 (Flatten)          (None, 12800)             0         \n",
      "_________________________________________________________________\n",
      "dense_21 (Dense)             (None, 32)                409632    \n",
      "_________________________________________________________________\n",
      "dense_22 (Dense)             (None, 12)                396       \n",
      "_________________________________________________________________\n",
      "dense_23 (Dense)             (None, 32)                416       \n",
      "_________________________________________________________________\n",
      "dense_24 (Dense)             (None, 12800)             422400    \n",
      "_________________________________________________________________\n",
      "reshape_16 (Reshape)         (None, 10, 10, 128)       0         \n",
      "_________________________________________________________________\n",
      "conv2d_34 (Conv2D)           (None, 10, 10, 128)       147584    \n",
      "_________________________________________________________________\n",
      "up_sampling2d_11 (UpSampling (None, 20, 20, 128)       0         \n",
      "_________________________________________________________________\n",
      "conv2d_35 (Conv2D)           (None, 20, 20, 128)       147584    \n",
      "_________________________________________________________________\n",
      "up_sampling2d_12 (UpSampling (None, 40, 40, 128)       0         \n",
      "_________________________________________________________________\n",
      "conv2d_36 (Conv2D)           (None, 40, 40, 1)         1153      \n",
      "_________________________________________________________________\n",
      "reshape_17 (Reshape)         (None, 1, 1600)           0         \n",
      "_________________________________________________________________\n",
      "reshape_18 (Reshape)         (None, 40, 40, 1)         0         \n",
      "=================================================================\n",
      "Total params: 1,425,613\n",
      "Trainable params: 1,425,613\n",
      "Non-trainable params: 0\n",
      "_________________________________________________________________\n"
     ]
    }
   ],
   "source": [
    "input_img=Input(shape= (40, 40, 1))\n",
    "layer=input_img\n",
    "layer=Conv2D(128, kernel_size=(3, 3),activation='relu',padding='same')(layer)\n",
    "layer=MaxPooling2D(pool_size=(2, 2),padding='same')(layer)\n",
    "layer=Conv2D(128, kernel_size=(3, 3), activation='relu',padding='same')(layer)\n",
    "layer=MaxPooling2D(pool_size=(2, 2),padding='same')(layer)\n",
    "layer=Conv2D(128, kernel_size=(3, 3), activation='relu',padding='same')(layer)\n",
    "layer=Flatten()(layer)\n",
    "layer=Dense(32, activation='relu')(layer)\n",
    "layer=Dense(12)(layer)\n",
    "encoded=layer\n",
    "\n",
    "layer=Dense(32, activation='relu')(encoded)\n",
    "layer=Dense(12800, activation='relu')(layer)\n",
    "layer=Reshape((10,10,128))(layer)\n",
    "layer=Conv2D(128, kernel_size=(3, 3), activation='relu',padding='same')(layer)\n",
    "layer=UpSampling2D((2,2))(layer)\n",
    "layer=Conv2D(128, kernel_size=(3, 3), activation='relu',padding='same')(layer)\n",
    "layer=UpSampling2D((2,2))(layer)\n",
    "layer=Conv2D(1, kernel_size=(3, 3),padding='same')(layer)\n",
    "layer=Reshape((1,1600))(layer)\n",
    "decoded=Reshape((40,40,1))(layer)\n",
    "\n",
    "autoencoder=Model(input_img ,decoded)\n",
    "autoencoder.compile(loss=keras.losses.mean_squared_error, optimizer=keras.optimizers.Adam())\n",
    "autoencoder.summary()\n",
    "#autoencoder.load_weights(\"cnn200p1b128.h5\")\n",
    "autoencoder.save_weights('initcnn.h5')"
   ]
  },
  {
   "cell_type": "code",
   "execution_count": 3,
   "metadata": {},
   "outputs": [],
   "source": [
    "f = h5py.File('./data/train_no_pile_100000a.h5','r')\n",
    "x,y = f['features'][:], f['targets'][:]\n",
    "ibg, isig = np.where(y == 0)[0], np.where(y == 1)[0]\n",
    "xbg, ybg = x[ibg], y[ibg]\n",
    "xsig, ysig = x[isig], y[isig]"
   ]
  },
  {
   "cell_type": "code",
   "execution_count": 4,
   "metadata": {},
   "outputs": [
    {
     "data": {
      "image/png": "[encoded data removed]",
      "text/plain": [
       "<Figure size 720x720 with 2 Axes>"
      ]
     },
     "metadata": {
      "needs_background": "light"
     },
     "output_type": "display_data"
    }
   ],
   "source": [
    "plotting.plot2_nAgg(0,1000,xbg,xsig,100*400,\"traindata.png\")"
   ]
  },
  {
   "cell_type": "code",
   "execution_count": 5,
   "metadata": {},
   "outputs": [],
   "source": [
    "ft = h5py.File('./data/test_no_pile_50000a.h5','r')\n",
    "xt,yt = ft['features'][:], ft['targets'][:]\n",
    "ibgt, isigt = np.where(yt == 0)[0], np.where(yt == 1)[0]\n",
    "xbgt, ybgt = xt[ibgt], yt[ibgt]\n",
    "xsigt, ysigt = xt[isigt], yt[isigt]"
   ]
  },
  {
   "cell_type": "code",
   "execution_count": 6,
   "metadata": {},
   "outputs": [
    {
     "data": {
      "image/png": "[encoded data removed]",
      "text/plain": [
       "<Figure size 720x720 with 2 Axes>"
      ]
     },
     "metadata": {
      "needs_background": "light"
     },
     "output_type": "display_data"
    }
   ],
   "source": [
    "plotting.plot2_nAgg(0,1000,xbgt,xsigt,100*400,\"testdata.png\")"
   ]
  },
  {
   "cell_type": "code",
   "execution_count": 7,
   "metadata": {},
   "outputs": [
    {
     "name": "stdout",
     "output_type": "stream",
     "text": [
      "(50060, 1, 32, 32) (50060, 1) (49940, 1, 32, 32) (49940, 1)\n",
      "(24925, 1, 32, 32) (24925, 1) (25075, 1, 32, 32) (25075, 1)\n"
     ]
    }
   ],
   "source": [
    "print(xbg.shape,ybg.shape,xsig.shape,ysig.shape)\n",
    "print(xbgt.shape,ybgt.shape,xsigt.shape,ysigt.shape)"
   ]
  },
  {
   "cell_type": "code",
   "execution_count": 8,
   "metadata": {},
   "outputs": [
    {
     "name": "stdout",
     "output_type": "stream",
     "text": [
      "(40000, 32, 32) (40000, 1) (40000, 32, 32) (40000, 1)\n",
      "(10060, 32, 32) (10060, 1) (9940, 32, 32) (9940, 1)\n",
      "(24925, 32, 32) (24925, 1) (25075, 32, 32) (25075, 1)\n"
     ]
    }
   ],
   "source": [
    "#xbg_tr; xbg_val; xbg_te\n",
    "xbg_tr,ybg_tr=xbg[:40000],ybg[:40000]\n",
    "xbg_val,ybg_val=xbg[40000:],ybg[40000:]\n",
    "xsig_tr,ysig_tr=xsig[:40000],ysig[:40000]\n",
    "xsig_val,ysig_val=xsig[40000:],ysig[40000:]\n",
    "xbg_te,ybg_te = xbgt[:],ybgt[:]\n",
    "xsig_te,ysig_te = xsigt[:],ysigt[:]\n",
    "\n",
    "def flat(x):\n",
    "    return x.reshape(x.shape[0],32,32)\n",
    "\n",
    "xbg_tr = flat(xbg_tr)\n",
    "xbg_val = flat(xbg_val)\n",
    "xsig_tr = flat(xsig_tr)\n",
    "xsig_val = flat(xsig_val)\n",
    "xbg_te = flat(xbgt)\n",
    "xsig_te = flat(xsigt)\n",
    "\n",
    "\n",
    "print(xbg_tr.shape,ybg_tr.shape,xsig_tr.shape,ysig_tr.shape)\n",
    "print(xbg_val.shape,ybg_val.shape,xsig_val.shape,ysig_val.shape)\n",
    "print(xbg_te.shape,ybg_te.shape,xsig_te.shape,ysig_te.shape)"
   ]
  },
  {
   "cell_type": "code",
   "execution_count": 9,
   "metadata": {},
   "outputs": [
    {
     "name": "stdout",
     "output_type": "stream",
     "text": [
      "[[[1 2 9]\n",
      "  [3 4 6]\n",
      "  [6 7 8]]\n",
      "\n",
      " [[1 2 9]\n",
      "  [3 4 6]\n",
      "  [6 7 8]]] (2, 3, 3)\n"
     ]
    },
    {
     "data": {
      "text/plain": [
       "(2, 11, 11)"
      ]
     },
     "execution_count": 9,
     "metadata": {},
     "output_type": "execute_result"
    }
   ],
   "source": [
    "A = np.array([[[1,2,9],[3,4,6],[6,7,8]],[[1,2,9],[3,4,6],[6,7,8]]])\n",
    "print(A,A.shape)\n",
    "np.pad(A, ((0,0),(4,4),(4,4)), 'constant').shape"
   ]
  },
  {
   "cell_type": "code",
   "execution_count": 10,
   "metadata": {},
   "outputs": [],
   "source": [
    "def pad(x):\n",
    "    return np.pad(x,((0,0),(4,4),(4,4)), 'constant')\n",
    "\n",
    "xbg_tr = pad(xbg_tr)\n",
    "xbg_val = pad(xbg_val)\n",
    "xsig_tr = pad(xsig_tr)\n",
    "xsig_val = pad(xsig_val)\n",
    "xbg_te = pad(xbg_te)\n",
    "xsig_te = pad(xsig_te)"
   ]
  },
  {
   "cell_type": "code",
   "execution_count": 11,
   "metadata": {},
   "outputs": [
    {
     "name": "stdout",
     "output_type": "stream",
     "text": [
      "(40000, 40, 40) (10060, 40, 40) (24925, 40, 40)\n",
      "(40000, 1) (10060, 1) (24925, 1)\n",
      "(40000, 40, 40) (9940, 40, 40) (25075, 40, 40)\n",
      "(40000, 1) (9940, 1) (25075, 1)\n"
     ]
    }
   ],
   "source": [
    "print(xbg_tr.shape,xbg_val.shape,xbg_te.shape)\n",
    "print(ybg_tr.shape,ybg_val.shape,ybg_te.shape)\n",
    "print(xsig_tr.shape,xsig_val.shape,xsig_te.shape)\n",
    "print(ysig_tr.shape,ysig_val.shape,ysig_te.shape)"
   ]
  },
  {
   "cell_type": "code",
   "execution_count": 12,
   "metadata": {},
   "outputs": [],
   "source": [
    "def fold(x):\n",
    "    return x.reshape(x.shape[0],x.shape[1],x.shape[2],1)\n",
    "\n",
    "xbg_tr = fold(xbg_tr)\n",
    "xbg_val = fold(xbg_val)\n",
    "xsig_tr = fold(xsig_tr)\n",
    "xsig_val = fold(xsig_val)\n",
    "xbg_te = fold(xbg_te)\n",
    "xsig_te = fold(xsig_te)"
   ]
  },
  {
   "cell_type": "code",
   "execution_count": 13,
   "metadata": {},
   "outputs": [
    {
     "name": "stdout",
     "output_type": "stream",
     "text": [
      "(40000, 40, 40, 1) (10060, 40, 40, 1) (24925, 40, 40, 1)\n",
      "(40000, 1) (10060, 1) (24925, 1)\n",
      "(40000, 40, 40, 1) (9940, 40, 40, 1) (25075, 40, 40, 1)\n",
      "(40000, 1) (9940, 1) (25075, 1)\n"
     ]
    }
   ],
   "source": [
    "print(xbg_tr.shape,xbg_val.shape,xbg_te.shape)\n",
    "print(ybg_tr.shape,ybg_val.shape,ybg_te.shape)\n",
    "print(xsig_tr.shape,xsig_val.shape,xsig_te.shape)\n",
    "print(ysig_tr.shape,ysig_val.shape,ysig_te.shape)"
   ]
  },
  {
   "cell_type": "code",
   "execution_count": 77,
   "metadata": {},
   "outputs": [
    {
     "name": "stdout",
     "output_type": "stream",
     "text": [
      "Train on 40000 samples, validate on 10060 samples\n",
      "Epoch 1/20\n",
      "40000/40000 [==============================] - 17s 421us/step - loss: 6.8378 - val_loss: 2.9737\n",
      "Epoch 2/20\n",
      "40000/40000 [==============================] - 16s 402us/step - loss: 2.6175 - val_loss: 2.2602\n",
      "Epoch 3/20\n",
      "40000/40000 [==============================] - 16s 404us/step - loss: 2.1032 - val_loss: 1.9422\n",
      "Epoch 4/20\n",
      "40000/40000 [==============================] - 16s 405us/step - loss: 1.8229 - val_loss: 1.6872\n",
      "Epoch 5/20\n",
      "40000/40000 [==============================] - 16s 407us/step - loss: 1.6442 - val_loss: 1.5571\n",
      "Epoch 6/20\n",
      "40000/40000 [==============================] - 16s 408us/step - loss: 1.5152 - val_loss: 1.5444\n",
      "Epoch 7/20\n",
      "40000/40000 [==============================] - 16s 411us/step - loss: 1.3882 - val_loss: 1.5919\n",
      "Epoch 8/20\n",
      "40000/40000 [==============================] - 16s 410us/step - loss: 1.3070 - val_loss: 1.2988\n",
      "Epoch 9/20\n",
      "40000/40000 [==============================] - 16s 410us/step - loss: 1.2789 - val_loss: 1.1920\n",
      "Epoch 10/20\n",
      "40000/40000 [==============================] - 16s 410us/step - loss: 1.2077 - val_loss: 1.1451\n",
      "Epoch 11/20\n",
      "40000/40000 [==============================] - 16s 411us/step - loss: 1.1277 - val_loss: 1.1306\n",
      "Epoch 12/20\n",
      "40000/40000 [==============================] - 16s 411us/step - loss: 1.0988 - val_loss: 1.1230\n",
      "Epoch 13/20\n",
      "40000/40000 [==============================] - 16s 411us/step - loss: 1.0794 - val_loss: 1.2075\n",
      "Epoch 14/20\n",
      "40000/40000 [==============================] - 16s 412us/step - loss: 1.0169 - val_loss: 1.0048\n",
      "Epoch 15/20\n",
      "40000/40000 [==============================] - 16s 411us/step - loss: 1.0054 - val_loss: 1.1135\n",
      "Epoch 16/20\n",
      "40000/40000 [==============================] - 16s 411us/step - loss: 0.9497 - val_loss: 1.1127\n",
      "Epoch 17/20\n",
      "40000/40000 [==============================] - 16s 412us/step - loss: 0.9814 - val_loss: 0.9544\n",
      "Epoch 18/20\n",
      "40000/40000 [==============================] - 16s 412us/step - loss: 0.9006 - val_loss: 0.9419\n",
      "Epoch 19/20\n",
      "40000/40000 [==============================] - 16s 412us/step - loss: 0.8680 - val_loss: 0.9077\n",
      "Epoch 20/20\n",
      "40000/40000 [==============================] - 16s 412us/step - loss: 0.8643 - val_loss: 0.9036\n"
     ]
    }
   ],
   "source": [
    "autoencoder.load_weights('initcnn.h5')\n",
    "callbacks = [keras.callbacks.EarlyStopping(monitor='loss', min_delta=0, \n",
    "                                           patience=10, verbose=0,\n",
    "                                           mode='auto', baseline=None,\n",
    "                                           restore_best_weights=True)]\n",
    "\n",
    "historya = autoencoder.fit(xbg_tr, xbg_tr, epochs=20, batch_size=128,\n",
    "                validation_data=(xbg_val,xbg_val),verbose=1,\n",
    "                callbacks=callbacks)"
   ]
  },
  {
   "cell_type": "code",
   "execution_count": 78,
   "metadata": {},
   "outputs": [],
   "source": [
    "autoencoder.save_weights('cnn200p12b128.h5')"
   ]
  },
  {
   "cell_type": "code",
   "execution_count": 43,
   "metadata": {},
   "outputs": [
    {
     "name": "stdout",
     "output_type": "stream",
     "text": [
      "24925/24925 [==============================] - 4s 141us/step\n"
     ]
    },
    {
     "data": {
      "text/plain": [
       "1.6780312735003717"
      ]
     },
     "execution_count": 43,
     "metadata": {},
     "output_type": "execute_result"
    }
   ],
   "source": [
    "autoencoder.evaluate(xbg_te,xbg_te,batch_size=128)"
   ]
  },
  {
   "cell_type": "code",
   "execution_count": 44,
   "metadata": {},
   "outputs": [
    {
     "name": "stdout",
     "output_type": "stream",
     "text": [
      "25075/25075 [==============================] - 4s 140us/step\n"
     ]
    },
    {
     "data": {
      "text/plain": [
       "4.537762330854878"
      ]
     },
     "execution_count": 44,
     "metadata": {},
     "output_type": "execute_result"
    }
   ],
   "source": [
    "autoencoder.evaluate(xsig_te,xsig_te,batch_size=128)"
   ]
  },
  {
   "cell_type": "code",
   "execution_count": 18,
   "metadata": {},
   "outputs": [],
   "source": [
    "imbg = autoencoder.predict(xbg_te,batch_size=128)\n",
    "imsig = autoencoder.predict(xsig_te,batch_size=128)"
   ]
  },
  {
   "cell_type": "code",
   "execution_count": 17,
   "metadata": {},
   "outputs": [
    {
     "name": "stdout",
     "output_type": "stream",
     "text": [
      "(24925, 40, 40, 1) (25075, 40, 40, 1)\n"
     ]
    }
   ],
   "source": [
    "print(imbg.shape,imsig.shape)"
   ]
  },
  {
   "cell_type": "code",
   "execution_count": 18,
   "metadata": {},
   "outputs": [
    {
     "name": "stdout",
     "output_type": "stream",
     "text": [
      "Sneak at random 10 bg/sig loss\n",
      "Background testing: 47.72554931640625\n",
      "Signal testing: 22.039971923828126\n",
      "Sneak at random 10 bg/sig loss\n",
      "Background testing: 0.5683899879455566\n",
      "Signal testing: 119.595654296875\n",
      "Sneak at random 10 bg/sig loss\n",
      "Background testing: 3.903703308105469\n",
      "Signal testing: 21.190762329101563\n",
      "Sneak at random 10 bg/sig loss\n",
      "Background testing: 1.081679916381836\n",
      "Signal testing: 58.91251220703125\n",
      "Sneak at random 10 bg/sig loss\n",
      "Background testing: 2.6488679885864257\n",
      "Signal testing: 118.23182373046875\n",
      "Sneak at random 10 bg/sig loss\n",
      "Background testing: 0.6380675315856934\n",
      "Signal testing: 29.733837890625\n",
      "Sneak at random 10 bg/sig loss\n",
      "Background testing: 0.9413893699645997\n",
      "Signal testing: 41.46864624023438\n",
      "Sneak at random 10 bg/sig loss\n",
      "Background testing: 21.342857360839844\n",
      "Signal testing: 93.96350708007813\n",
      "Sneak at random 10 bg/sig loss\n",
      "Background testing: 1.8948984146118164\n",
      "Signal testing: 45.6987548828125\n",
      "Sneak at random 10 bg/sig loss\n",
      "Background testing: 41.34613952636719\n",
      "Signal testing: 70.72222900390625\n"
     ]
    }
   ],
   "source": [
    "for i in random.sample(range(1,24000),10):\n",
    "    print(\"Sneak at random 10 bg/sig loss\")\n",
    "    print(\"Background testing:\",np.sum((xbg_te[i]-imbg[i])**2)/(xbg_te.shape[1]))\n",
    "    print(\"Signal testing:\",np.sum((xsig_te[i]-imsig[i])**2)/(xsig_te.shape[1]))"
   ]
  },
  {
   "cell_type": "code",
   "execution_count": 19,
   "metadata": {},
   "outputs": [
    {
     "name": "stdout",
     "output_type": "stream",
     "text": [
      "Background testing: 3.7338840484619142\n"
     ]
    }
   ],
   "source": [
    "print(\"Background testing:\",np.sum((xbg_te[1]-imbg[1])**2)/(xbg_te.shape[1]))"
   ]
  },
  {
   "cell_type": "code",
   "execution_count": 20,
   "metadata": {},
   "outputs": [],
   "source": [
    "def nAgg(s,e,x,x_hat):\n",
    "    oga = np.copy(x[s].reshape((40,40)))\n",
    "    imga = np.copy(x_hat[s].reshape((40,40)))\n",
    "#     f, ax = plt.subplots(1, 2, figsize=(10, 10))\n",
    "#     ax[0].imshow(oga,cmap=\"Blues\")\n",
    "#     ax[0].set_title(\"Original\")\n",
    "#     ax[1].imshow(imga , cmap=\"Blues\")\n",
    "#     ax[1].set_title(\"Reconstructed\")\n",
    "#     plt.show()    \n",
    "    for i in range(s+1,e):\n",
    "        og = np.reshape(x[i],(40,40))\n",
    "        img = np.reshape(x_hat[i],(40,40))\n",
    "        oga += og\n",
    "        imga += img\n",
    "        \n",
    "    return oga, imga"
   ]
  },
  {
   "cell_type": "code",
   "execution_count": 21,
   "metadata": {},
   "outputs": [
    {
     "data": {
      "image/png": "[encoded data removed]",
      "text/plain": [
       "<Figure size 720x720 with 6 Axes>"
      ]
     },
     "metadata": {
      "needs_background": "light"
     },
     "output_type": "display_data"
    }
   ],
   "source": [
    "ogbg,imgbg = nAgg(0,10000,xbg_te,imbg)\n",
    "ogsig,imgsig = nAgg(0,10000,xsig_te,imsig)\n",
    "\n",
    "f, ax = plt.subplots(2, 3, figsize=(10, 10))\n",
    "ax[0][0].imshow(ogbg,cmap=\"Blues\", vmax=100000)\n",
    "ax[0][0].set_title(\"Original\")\n",
    "ax[0][1].imshow(imgbg , cmap=\"Blues\" , vmax=100000)\n",
    "ax[0][1].set_title(\"Reconstructed\")\n",
    "ax[0][2].imshow((ogbg-imgbg)**2/(32*32) , cmap=\"Blues\", vmax=100000)\n",
    "ax[0][2].set_title(\"Error\")\n",
    "\n",
    "ax[1][0].imshow(ogsig,cmap=\"Reds\" , vmax=100000)\n",
    "ax[1][1].imshow(imgsig , cmap=\"Reds\" , vmax=100000)\n",
    "ax[1][2].imshow((ogsig-imgsig)**2/(32*32) , cmap=\"Reds\", vmax=100000)\n",
    "0\n",
    "plt.savefig(\"cnnaee.png\")\n",
    "plt.show()"
   ]
  },
  {
   "cell_type": "code",
   "execution_count": 56,
   "metadata": {},
   "outputs": [],
   "source": [
    "def plot_al(history,aorl):\n",
    "    plt.plot(history.history[aorl])\n",
    "    plt.plot(history.history['val_'+aorl])\n",
    "    plt.title('Dense Autoencoder '+(\"Accuracy\" if aorl==\"acc\" else \"Loss\"))\n",
    "    plt.ylabel(aorl)\n",
    "    plt.xlabel('epoch')\n",
    "    plt.legend(['train', 'test'], loc='upper left')\n",
    "    plt.show()"
   ]
  },
  {
   "cell_type": "code",
   "execution_count": 79,
   "metadata": {},
   "outputs": [
    {
     "data": {
      "image/png": "[encoded data removed]",
      "text/plain": [
       "<Figure size 432x288 with 1 Axes>"
      ]
     },
     "metadata": {
      "needs_background": "light"
     },
     "output_type": "display_data"
    }
   ],
   "source": [
    "plot_al(historya,'loss')"
   ]
  },
  {
   "cell_type": "code",
   "execution_count": 69,
   "metadata": {},
   "outputs": [],
   "source": [
    "xmixed = np.concatenate((xbg_te,xsig_te))\n",
    "ymixed = np.concatenate((ybg_te,ysig_te))"
   ]
  },
  {
   "cell_type": "code",
   "execution_count": 70,
   "metadata": {},
   "outputs": [
    {
     "name": "stdout",
     "output_type": "stream",
     "text": [
      "(50000, 40, 40, 1) (50000, 1)\n"
     ]
    }
   ],
   "source": [
    "print(xmixed.shape,ymixed.shape)"
   ]
  },
  {
   "cell_type": "code",
   "execution_count": 80,
   "metadata": {},
   "outputs": [],
   "source": [
    "imall = autoencoder.predict(xmixed,batch_size=128)"
   ]
  },
  {
   "cell_type": "code",
   "execution_count": 81,
   "metadata": {},
   "outputs": [
    {
     "data": {
      "text/plain": [
       "(50000, 40, 40, 1)"
      ]
     },
     "execution_count": 81,
     "metadata": {},
     "output_type": "execute_result"
    }
   ],
   "source": [
    "imall.shape"
   ]
  },
  {
   "cell_type": "code",
   "execution_count": 82,
   "metadata": {},
   "outputs": [],
   "source": [
    "def evaluate(x,img):\n",
    "    err = np.sum((x-img)**2)/(x.shape[0])\n",
    "    #print(expit((err-65)/10))\n",
    "    return expit(err), err"
   ]
  },
  {
   "cell_type": "code",
   "execution_count": 83,
   "metadata": {},
   "outputs": [],
   "source": [
    "def preRoc(xs,x_hats):\n",
    "    y_preds = []\n",
    "    errs = []\n",
    "    for i in range(xmixed.shape[0]):\n",
    "        y_pred, errx = evaluate(xs[i],x_hats[i])\n",
    "        y_preds.append(y_pred)\n",
    "        errs.append(errx)\n",
    "        \n",
    "    #print(y_preds)\n",
    "    fpr = dict()\n",
    "    tpr = dict()\n",
    "    roc_auc = dict()\n",
    "    for i in range(2):\n",
    "        fpr[i], tpr[i], _ = roc_curve(ymixed.reshape(ymixed.shape[0]), \n",
    "                                      np.array(y_preds))\n",
    "        roc_auc[i] = auc(fpr[i], tpr[i])\n",
    "    print(roc_auc)\n",
    "    return fpr,tpr,roc_auc, errs, y_preds"
   ]
  },
  {
   "cell_type": "code",
   "execution_count": 84,
   "metadata": {},
   "outputs": [
    {
     "name": "stdout",
     "output_type": "stream",
     "text": [
      "{0: 0.8045637194734752, 1: 0.8045637194734752}\n"
     ]
    },
    {
     "data": {
      "image/png": "[encoded data removed]",
      "text/plain": [
       "<Figure size 432x288 with 1 Axes>"
      ]
     },
     "metadata": {
      "needs_background": "light"
     },
     "output_type": "display_data"
    }
   ],
   "source": [
    "plt.figure()   \n",
    "fpr,tpr,roc_auc,errs,y_preds = preRoc(xmixed,imall)\n",
    "plt.plot(fpr[1], tpr[1],label=\"(AUC={:.2f})\".format(roc_auc[0]))\n",
    "plt.xlim([0.0, 1.0])\n",
    "plt.ylim([0.0, 1.05])\n",
    "plt.xlabel('False Positive Rate')\n",
    "plt.ylabel('True Positive Rate')\n",
    "plt.title('ROC')\n",
    "plt.legend(loc=\"lower right\")\n",
    "plt.savefig(\"cnnaerocc.png\")\n",
    "plt.show()"
   ]
  },
  {
   "cell_type": "code",
   "execution_count": 29,
   "metadata": {},
   "outputs": [
    {
     "name": "stdout",
     "output_type": "stream",
     "text": [
      "31.121513789589212\n",
      "76.04655457323211\n",
      "95.3077880859375\n"
     ]
    }
   ],
   "source": [
    "errs = np.array(errs)\n",
    "print(errs[:imbg.shape[0]].mean())\n",
    "print(errs[imbg.shape[0]:].mean())\n",
    "print(errs[0])"
   ]
  },
  {
   "cell_type": "code",
   "execution_count": 30,
   "metadata": {},
   "outputs": [
    {
     "data": {
      "text/plain": [
       "[<matplotlib.lines.Line2D at 0x11ba284ccc0>]"
      ]
     },
     "execution_count": 30,
     "metadata": {},
     "output_type": "execute_result"
    },
    {
     "data": {
      "image/png": "[encoded data removed]",
      "text/plain": [
       "<Figure size 432x288 with 1 Axes>"
      ]
     },
     "metadata": {
      "needs_background": "light"
     },
     "output_type": "display_data"
    }
   ],
   "source": [
    "plt.figure()\n",
    "plt.plot(errs)"
   ]
  },
  {
   "cell_type": "code",
   "execution_count": 31,
   "metadata": {},
   "outputs": [
    {
     "name": "stdout",
     "output_type": "stream",
     "text": [
      "0.9140213706980758\n",
      "0.9975265917993978\n",
      "0.9766580415333771\n"
     ]
    }
   ],
   "source": [
    "y_preds = np.array(y_preds)\n",
    "print(y_preds[:imbg.shape[0]].mean())\n",
    "print(y_preds[imbg.shape[0]:].mean())\n",
    "print(y_preds[1])"
   ]
  },
  {
   "cell_type": "code",
   "execution_count": 32,
   "metadata": {},
   "outputs": [
    {
     "data": {
      "text/plain": [
       "<matplotlib.collections.PathCollection at 0x11b9a6d4550>"
      ]
     },
     "execution_count": 32,
     "metadata": {},
     "output_type": "execute_result"
    },
    {
     "data": {
      "image/png": "[encoded data removed]",
      "text/plain": [
       "<Figure size 432x288 with 1 Axes>"
      ]
     },
     "metadata": {
      "needs_background": "light"
     },
     "output_type": "display_data"
    }
   ],
   "source": [
    "plt.figure()\n",
    "plt.scatter(errs,y_preds)"
   ]
  },
  {
   "cell_type": "code",
   "execution_count": 35,
   "metadata": {},
   "outputs": [],
   "source": [
    "def writePred(h5,ymixed,y_preds):\n",
    "    hf = h5py.File(h5, 'w')\n",
    "    ymixed = ymixed.reshape(ymixed.shape[0])\n",
    "    assert ymixed.shape == y_preds.shape\n",
    "    hf.create_dataset('y', data=ymixed)\n",
    "    hf.create_dataset('y_pred', data=y_preds)\n",
    "    hf.close()"
   ]
  },
  {
   "cell_type": "code",
   "execution_count": 36,
   "metadata": {},
   "outputs": [],
   "source": [
    "writePred(\"cnnpred.h5\",ymixed,y_preds)"
   ]
  },
  {
   "cell_type": "code",
   "execution_count": 39,
   "metadata": {},
   "outputs": [
    {
     "name": "stdout",
     "output_type": "stream",
     "text": [
      "(50000,) (50000,)\n"
     ]
    }
   ],
   "source": [
    "ff = h5py.File('./cnnpred.h5','r')\n",
    "ymixedd,y_predd = ff['y'][:], ff['y_pred'][:]\n",
    "print(ymixedd.shape,y_predd.shape)"
   ]
  },
  {
   "cell_type": "code",
   "execution_count": 40,
   "metadata": {},
   "outputs": [
    {
     "name": "stdout",
     "output_type": "stream",
     "text": [
      "{0: 0.7775764941884478, 1: 0.7775764941884478}\n"
     ]
    }
   ],
   "source": [
    "fprr = dict()\n",
    "tprr = dict()\n",
    "roc_aucc = dict()\n",
    "for i in range(2):\n",
    "    fprr[i], tprr[i], _ = roc_curve(ymixedd, y_predd)\n",
    "    roc_aucc[i] = auc(fprr[i], tprr[i])\n",
    "print(roc_aucc)"
   ]
  },
  {
   "cell_type": "code",
   "execution_count": 41,
   "metadata": {},
   "outputs": [
    {
     "data": {
      "image/png": "[encoded data removed]",
      "text/plain": [
       "<Figure size 432x288 with 1 Axes>"
      ]
     },
     "metadata": {
      "needs_background": "light"
     },
     "output_type": "display_data"
    }
   ],
   "source": [
    "plt.plot(fprr[1], tprr[1],label=\"(AUC={:.2f})\".format(roc_aucc[0]))\n",
    "plt.xlim([0.0, 1.0])\n",
    "plt.ylim([0.0, 1.05])\n",
    "plt.xlabel('False Positive Rate')\n",
    "plt.ylabel('True Positive Rate')\n",
    "plt.title('ROC')\n",
    "plt.legend(loc=\"lower right\")\n",
    "plt.savefig(\"cnnrocc.png\")\n",
    "plt.show()"
   ]
  },
  {
   "cell_type": "code",
   "execution_count": null,
   "metadata": {},
   "outputs": [],
   "source": []
  }
 ],
 "metadata": {
  "kernelspec": {
   "display_name": "Python 3",
   "language": "python",
   "name": "python3"
  },
  "language_info": {
   "codemirror_mode": {
    "name": "ipython",
    "version": 3
   },
   "file_extension": ".py",
   "mimetype": "text/x-python",
   "name": "python",
   "nbconvert_exporter": "python",
   "pygments_lexer": "ipython3",
   "version": "3.6.8"
  }
 },
 "nbformat": 4,
 "nbformat_minor": 2
}
