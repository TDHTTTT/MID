{
 "cells": [
  {
   "cell_type": "code",
   "execution_count": 1,
   "metadata": {},
   "outputs": [
    {
     "name": "stderr",
     "output_type": "stream",
     "text": [
      "Using TensorFlow backend.\n"
     ]
    }
   ],
   "source": [
    "import h5py\n",
    "import numpy as np\n",
    "import keras\n",
    "from keras.engine.topology import Layer, InputSpec\n",
    "from keras.layers import Input, Dense, Activation\n",
    "from keras.models import Model\n",
    "from keras import backend as K\n",
    "import random\n",
    "import plotting\n",
    "import matplotlib.pyplot as plt\n",
    "%matplotlib inline\n",
    "from scipy.special import expit\n",
    "from sklearn.metrics import roc_curve, auc\n",
    "from keras.utils import plot_model"
   ]
  },
  {
   "cell_type": "code",
   "execution_count": null,
   "metadata": {},
   "outputs": [],
   "source": [
    "input_img = Input(shape=(32*32,))\n",
    "layer =  Dense(32, activation='relu')(input_img)\n",
    "#layer =  Dense(2048, activation='relu')(layer) \n",
    "encoded = Dense(6, activation='relu')(layer)\n",
    "\n",
    "#layer = Dense(2048, activation='relu')(encoded)\n",
    "layer = Dense(32, activation='relu')(layer)\n",
    "decoded = Dense(32*32, activation='relu')(layer)\n",
    "\n",
    "autoencoder = Model(input_img, decoded)\n",
    "autoencoder.compile(metrics=['accuracy'],loss=keras.losses.mean_squared_error, \n",
    "                    optimizer=keras.optimizers.Adam())\n",
    "autoencoder.summary()\n",
    "autoencoder.save_weights('init.h5')\n",
    "plot_model(autoencoder, to_file='densem.png', show_shapes=True)"
   ]
  },
  {
   "cell_type": "code",
   "execution_count": 3,
   "metadata": {},
   "outputs": [],
   "source": [
    "f = h5py.File('./data/train_no_pile_100000a.h5','r')\n",
    "x,y = f['features'][:], f['targets'][:]\n",
    "ibg, isig = np.where(y == 0)[0], np.where(y == 1)[0]\n",
    "xbg, ybg = x[ibg], y[ibg]\n",
    "xsig, ysig = x[isig], y[isig]"
   ]
  },
  {
   "cell_type": "code",
   "execution_count": 4,
   "metadata": {},
   "outputs": [
    {
     "data": {
      "image/png": "[encoded data removed]",
      "text/plain": [
       "<Figure size 720x720 with 2 Axes>"
      ]
     },
     "metadata": {
      "needs_background": "light"
     },
     "output_type": "display_data"
    }
   ],
   "source": [
    "plotting.plot2_nAgg(0,1000,xbg,xsig,100*400,\"traindata.png\")"
   ]
  },
  {
   "cell_type": "code",
   "execution_count": 5,
   "metadata": {},
   "outputs": [],
   "source": [
    "ft = h5py.File('./data/test_no_pile_50000a.h5','r')\n",
    "xt,yt = ft['features'][:], ft['targets'][:]\n",
    "ibgt, isigt = np.where(yt == 0)[0], np.where(yt == 1)[0]\n",
    "xbgt, ybgt = xt[ibgt], yt[ibgt]\n",
    "xsigt, ysigt = xt[isigt], yt[isigt]"
   ]
  },
  {
   "cell_type": "code",
   "execution_count": 6,
   "metadata": {},
   "outputs": [
    {
     "data": {
      "image/png": "[encoded data removed]",
      "text/plain": [
       "<Figure size 720x720 with 2 Axes>"
      ]
     },
     "metadata": {
      "needs_background": "light"
     },
     "output_type": "display_data"
    }
   ],
   "source": [
    "plotting.plot2_nAgg(0,1000,xbgt,xsigt,100*400,\"testdata.png\")"
   ]
  },
  {
   "cell_type": "code",
   "execution_count": 7,
   "metadata": {},
   "outputs": [
    {
     "name": "stdout",
     "output_type": "stream",
     "text": [
      "(50060, 1, 32, 32) (50060, 1) (49940, 1, 32, 32) (49940, 1)\n",
      "(24925, 1, 32, 32) (24925, 1) (25075, 1, 32, 32) (25075, 1)\n"
     ]
    }
   ],
   "source": [
    "print(xbg.shape,ybg.shape,xsig.shape,ysig.shape)\n",
    "print(xbgt.shape,ybgt.shape,xsigt.shape,ysigt.shape)"
   ]
  },
  {
   "cell_type": "code",
   "execution_count": 8,
   "metadata": {},
   "outputs": [
    {
     "name": "stdout",
     "output_type": "stream",
     "text": [
      "(40000, 1024) (40000, 1) (40000, 1024) (40000, 1)\n",
      "(10060, 1024) (10060, 1) (9940, 1024) (9940, 1)\n",
      "(24925, 1024) (24925, 1) (25075, 1024) (25075, 1)\n"
     ]
    }
   ],
   "source": [
    "#xbg_tr; xbg_val; xbg_te\n",
    "xbg_tr,ybg_tr=xbg[:40000],ybg[:40000]\n",
    "xbg_val,ybg_val=xbg[40000:],ybg[40000:]\n",
    "xsig_tr,ysig_tr=xsig[:40000],ysig[:40000]\n",
    "xsig_val,ysig_val=xsig[40000:],ysig[40000:]\n",
    "xbg_te,ybg_te = xbgt[:],ybgt[:]\n",
    "xsig_te,ysig_te = xsigt[:],ysigt[:]\n",
    "\n",
    "def flat(x):\n",
    "    return x.reshape(x.shape[0],-1)\n",
    "\n",
    "xbg_tr = flat(xbg_tr)\n",
    "xbg_val = flat(xbg_val)\n",
    "xsig_tr = flat(xsig_tr)\n",
    "xsig_val = flat(xsig_val)\n",
    "xbg_te = flat(xbgt)\n",
    "xsig_te = flat(xsigt)\n",
    "\n",
    "\n",
    "print(xbg_tr.shape,ybg_tr.shape,xsig_tr.shape,ysig_tr.shape)\n",
    "print(xbg_val.shape,ybg_val.shape,xsig_val.shape,ysig_val.shape)\n",
    "print(xbg_te.shape,ybg_te.shape,xsig_te.shape,ysig_te.shape)"
   ]
  },
  {
   "cell_type": "code",
   "execution_count": 35,
   "metadata": {},
   "outputs": [
    {
     "name": "stdout",
     "output_type": "stream",
     "text": [
      "Train on 40000 samples, validate on 10060 samples\n",
      "Epoch 1/200\n",
      "40000/40000 [==============================] - 1s 25us/step - loss: 7.3493 - acc: 0.9098 - val_loss: 2.1052 - val_acc: 0.9483\n",
      "Epoch 2/200\n",
      "40000/40000 [==============================] - 1s 25us/step - loss: 1.7907 - acc: 0.9619 - val_loss: 1.6295 - val_acc: 0.9670\n",
      "Epoch 3/200\n",
      "40000/40000 [==============================] - 1s 25us/step - loss: 1.5038 - acc: 0.9677 - val_loss: 1.4509 - val_acc: 0.9680\n",
      "Epoch 4/200\n",
      "40000/40000 [==============================] - 1s 25us/step - loss: 1.4140 - acc: 0.9690 - val_loss: 1.4059 - val_acc: 0.9699\n",
      "Epoch 5/200\n",
      "40000/40000 [==============================] - 1s 25us/step - loss: 1.3838 - acc: 0.9711 - val_loss: 1.3814 - val_acc: 0.9706\n",
      "Epoch 6/200\n",
      "40000/40000 [==============================] - 1s 25us/step - loss: 1.3639 - acc: 0.9722 - val_loss: 1.3671 - val_acc: 0.9721\n",
      "Epoch 7/200\n",
      "40000/40000 [==============================] - 1s 25us/step - loss: 1.3522 - acc: 0.9728 - val_loss: 1.3570 - val_acc: 0.9726\n",
      "Epoch 8/200\n",
      "40000/40000 [==============================] - 1s 26us/step - loss: 1.3464 - acc: 0.9733 - val_loss: 1.3542 - val_acc: 0.9729\n",
      "Epoch 9/200\n",
      "40000/40000 [==============================] - 1s 25us/step - loss: 1.3418 - acc: 0.9735 - val_loss: 1.3474 - val_acc: 0.9729\n",
      "Epoch 10/200\n",
      "40000/40000 [==============================] - 1s 26us/step - loss: 1.3373 - acc: 0.9738 - val_loss: 1.3429 - val_acc: 0.9734\n",
      "Epoch 11/200\n",
      "40000/40000 [==============================] - 1s 25us/step - loss: 1.3348 - acc: 0.9738 - val_loss: 1.3400 - val_acc: 0.9739\n",
      "Epoch 12/200\n",
      "40000/40000 [==============================] - 1s 25us/step - loss: 1.3324 - acc: 0.9738 - val_loss: 1.3372 - val_acc: 0.9731\n",
      "Epoch 13/200\n",
      "40000/40000 [==============================] - 1s 32us/step - loss: 1.3303 - acc: 0.9739 - val_loss: 1.3364 - val_acc: 0.9724\n",
      "Epoch 14/200\n",
      "40000/40000 [==============================] - 1s 34us/step - loss: 1.3280 - acc: 0.9742 - val_loss: 1.3338 - val_acc: 0.9729\n",
      "Epoch 15/200\n",
      "40000/40000 [==============================] - 1s 28us/step - loss: 1.3263 - acc: 0.9739 - val_loss: 1.3322 - val_acc: 0.9735\n",
      "Epoch 16/200\n",
      "40000/40000 [==============================] - 1s 25us/step - loss: 1.3247 - acc: 0.9743 - val_loss: 1.3300 - val_acc: 0.9728\n",
      "Epoch 17/200\n",
      "40000/40000 [==============================] - 1s 26us/step - loss: 1.3235 - acc: 0.9741 - val_loss: 1.3288 - val_acc: 0.9738\n",
      "Epoch 18/200\n",
      "40000/40000 [==============================] - 1s 26us/step - loss: 1.3224 - acc: 0.9745 - val_loss: 1.3279 - val_acc: 0.9736\n",
      "Epoch 19/200\n",
      "40000/40000 [==============================] - 1s 28us/step - loss: 1.3209 - acc: 0.9742 - val_loss: 1.3275 - val_acc: 0.9738\n",
      "Epoch 20/200\n",
      "40000/40000 [==============================] - 1s 29us/step - loss: 1.3192 - acc: 0.9747 - val_loss: 1.3253 - val_acc: 0.9734\n",
      "Epoch 21/200\n",
      "40000/40000 [==============================] - 1s 27us/step - loss: 1.3174 - acc: 0.9746 - val_loss: 1.3240 - val_acc: 0.9738\n",
      "Epoch 22/200\n",
      "40000/40000 [==============================] - 1s 27us/step - loss: 1.3154 - acc: 0.9747 - val_loss: 1.3212 - val_acc: 0.9740\n",
      "Epoch 23/200\n",
      "40000/40000 [==============================] - 1s 29us/step - loss: 1.3138 - acc: 0.9746 - val_loss: 1.3206 - val_acc: 0.9736\n",
      "Epoch 24/200\n",
      "40000/40000 [==============================] - 1s 28us/step - loss: 1.3129 - acc: 0.9747 - val_loss: 1.3193 - val_acc: 0.9734\n",
      "Epoch 25/200\n",
      "40000/40000 [==============================] - 1s 27us/step - loss: 1.3121 - acc: 0.9750 - val_loss: 1.3187 - val_acc: 0.9743\n",
      "Epoch 26/200\n",
      "40000/40000 [==============================] - 1s 25us/step - loss: 1.3117 - acc: 0.9750 - val_loss: 1.3180 - val_acc: 0.9741\n",
      "Epoch 27/200\n",
      "40000/40000 [==============================] - 1s 26us/step - loss: 1.3115 - acc: 0.9748 - val_loss: 1.3189 - val_acc: 0.9736\n",
      "Epoch 28/200\n",
      "40000/40000 [==============================] - 1s 26us/step - loss: 1.3111 - acc: 0.9748 - val_loss: 1.3175 - val_acc: 0.9744\n",
      "Epoch 29/200\n",
      "40000/40000 [==============================] - 1s 26us/step - loss: 1.3108 - acc: 0.9751 - val_loss: 1.3174 - val_acc: 0.9750\n",
      "Epoch 30/200\n",
      "40000/40000 [==============================] - 1s 25us/step - loss: 1.3106 - acc: 0.9750 - val_loss: 1.3168 - val_acc: 0.9742\n",
      "Epoch 31/200\n",
      "40000/40000 [==============================] - 1s 27us/step - loss: 1.3105 - acc: 0.9748 - val_loss: 1.3161 - val_acc: 0.9746\n",
      "Epoch 32/200\n",
      "40000/40000 [==============================] - 1s 28us/step - loss: 1.3102 - acc: 0.9750 - val_loss: 1.3157 - val_acc: 0.9742\n",
      "Epoch 33/200\n",
      "40000/40000 [==============================] - 1s 27us/step - loss: 1.3100 - acc: 0.9747 - val_loss: 1.3158 - val_acc: 0.9750\n",
      "Epoch 34/200\n",
      "40000/40000 [==============================] - 1s 27us/step - loss: 1.3099 - acc: 0.9749 - val_loss: 1.3157 - val_acc: 0.9740\n",
      "Epoch 35/200\n",
      "40000/40000 [==============================] - 1s 28us/step - loss: 1.3096 - acc: 0.9751 - val_loss: 1.3152 - val_acc: 0.9745\n",
      "Epoch 36/200\n",
      "40000/40000 [==============================] - 1s 28us/step - loss: 1.3095 - acc: 0.9749 - val_loss: 1.3149 - val_acc: 0.9750\n",
      "Epoch 37/200\n",
      "40000/40000 [==============================] - 1s 28us/step - loss: 1.3091 - acc: 0.9749 - val_loss: 1.3149 - val_acc: 0.9744\n",
      "Epoch 38/200\n",
      "40000/40000 [==============================] - 1s 27us/step - loss: 1.3092 - acc: 0.9750 - val_loss: 1.3144 - val_acc: 0.9747\n",
      "Epoch 39/200\n",
      "40000/40000 [==============================] - 1s 27us/step - loss: 1.3089 - acc: 0.9750 - val_loss: 1.3143 - val_acc: 0.9746\n",
      "Epoch 40/200\n",
      "40000/40000 [==============================] - 1s 27us/step - loss: 1.3088 - acc: 0.9750 - val_loss: 1.3152 - val_acc: 0.9745\n",
      "Epoch 41/200\n",
      "40000/40000 [==============================] - 1s 27us/step - loss: 1.3087 - acc: 0.9751 - val_loss: 1.3139 - val_acc: 0.9748\n",
      "Epoch 42/200\n",
      "40000/40000 [==============================] - 1s 27us/step - loss: 1.3087 - acc: 0.9751 - val_loss: 1.3140 - val_acc: 0.9750\n",
      "Epoch 43/200\n",
      "40000/40000 [==============================] - 1s 27us/step - loss: 1.3088 - acc: 0.9752 - val_loss: 1.3142 - val_acc: 0.9745\n",
      "Epoch 44/200\n",
      "40000/40000 [==============================] - 1s 27us/step - loss: 1.3086 - acc: 0.9750 - val_loss: 1.3147 - val_acc: 0.9745\n",
      "Epoch 45/200\n",
      "40000/40000 [==============================] - 1s 27us/step - loss: 1.3086 - acc: 0.9751 - val_loss: 1.3141 - val_acc: 0.9738\n",
      "Epoch 46/200\n",
      "40000/40000 [==============================] - 1s 27us/step - loss: 1.3084 - acc: 0.9749 - val_loss: 1.3143 - val_acc: 0.9741\n",
      "Epoch 47/200\n",
      "40000/40000 [==============================] - 1s 27us/step - loss: 1.3083 - acc: 0.9751 - val_loss: 1.3153 - val_acc: 0.9742\n",
      "Epoch 48/200\n",
      "40000/40000 [==============================] - 1s 27us/step - loss: 1.3083 - acc: 0.9750 - val_loss: 1.3137 - val_acc: 0.9742\n",
      "Epoch 49/200\n",
      "40000/40000 [==============================] - 1s 27us/step - loss: 1.3083 - acc: 0.9751 - val_loss: 1.3148 - val_acc: 0.9750\n",
      "Epoch 50/200\n",
      "40000/40000 [==============================] - 1s 27us/step - loss: 1.3084 - acc: 0.9749 - val_loss: 1.3134 - val_acc: 0.9749\n",
      "Epoch 51/200\n",
      "40000/40000 [==============================] - 1s 27us/step - loss: 1.3080 - acc: 0.9753 - val_loss: 1.3136 - val_acc: 0.9747\n",
      "Epoch 52/200\n",
      "40000/40000 [==============================] - 1s 27us/step - loss: 1.3080 - acc: 0.9749 - val_loss: 1.3135 - val_acc: 0.9741\n",
      "Epoch 53/200\n",
      "40000/40000 [==============================] - 1s 27us/step - loss: 1.3078 - acc: 0.9751 - val_loss: 1.3137 - val_acc: 0.9747\n",
      "Epoch 54/200\n",
      "40000/40000 [==============================] - 1s 27us/step - loss: 1.3080 - acc: 0.9751 - val_loss: 1.3137 - val_acc: 0.9749\n",
      "Epoch 55/200\n",
      "40000/40000 [==============================] - 1s 27us/step - loss: 1.3079 - acc: 0.9751 - val_loss: 1.3140 - val_acc: 0.9739\n",
      "Epoch 56/200\n",
      "40000/40000 [==============================] - 1s 27us/step - loss: 1.3078 - acc: 0.9749 - val_loss: 1.3135 - val_acc: 0.9750\n",
      "Epoch 57/200\n",
      "40000/40000 [==============================] - 1s 27us/step - loss: 1.3077 - acc: 0.9749 - val_loss: 1.3138 - val_acc: 0.9740\n",
      "Epoch 58/200\n",
      "40000/40000 [==============================] - 1s 27us/step - loss: 1.3076 - acc: 0.9752 - val_loss: 1.3132 - val_acc: 0.9742\n",
      "Epoch 59/200\n"
     ]
    },
    {
     "name": "stdout",
     "output_type": "stream",
     "text": [
      "40000/40000 [==============================] - 1s 26us/step - loss: 1.3081 - acc: 0.9750 - val_loss: 1.3134 - val_acc: 0.9744\n",
      "Epoch 60/200\n",
      "40000/40000 [==============================] - 1s 26us/step - loss: 1.3078 - acc: 0.9750 - val_loss: 1.3132 - val_acc: 0.9744\n",
      "Epoch 61/200\n",
      "40000/40000 [==============================] - 1s 27us/step - loss: 1.3075 - acc: 0.9751 - val_loss: 1.3131 - val_acc: 0.9746\n",
      "Epoch 62/200\n",
      "40000/40000 [==============================] - 1s 27us/step - loss: 1.3077 - acc: 0.9750 - val_loss: 1.3136 - val_acc: 0.9749\n",
      "Epoch 63/200\n",
      "40000/40000 [==============================] - 1s 27us/step - loss: 1.3075 - acc: 0.9752 - val_loss: 1.3134 - val_acc: 0.9743\n",
      "Epoch 64/200\n",
      "40000/40000 [==============================] - 1s 26us/step - loss: 1.3076 - acc: 0.9750 - val_loss: 1.3132 - val_acc: 0.9751\n",
      "Epoch 65/200\n",
      "40000/40000 [==============================] - 1s 27us/step - loss: 1.3077 - acc: 0.9750 - val_loss: 1.3134 - val_acc: 0.9746\n",
      "Epoch 66/200\n",
      "40000/40000 [==============================] - 1s 26us/step - loss: 1.3075 - acc: 0.9752 - val_loss: 1.3134 - val_acc: 0.9744\n",
      "Epoch 67/200\n",
      "40000/40000 [==============================] - 1s 26us/step - loss: 1.3077 - acc: 0.9750 - val_loss: 1.3129 - val_acc: 0.9747\n",
      "Epoch 68/200\n",
      "40000/40000 [==============================] - 1s 27us/step - loss: 1.3073 - acc: 0.9750 - val_loss: 1.3135 - val_acc: 0.9748\n",
      "Epoch 69/200\n",
      "40000/40000 [==============================] - 1s 26us/step - loss: 1.3073 - acc: 0.9753 - val_loss: 1.3129 - val_acc: 0.9747\n",
      "Epoch 70/200\n",
      "40000/40000 [==============================] - 1s 27us/step - loss: 1.3077 - acc: 0.9750 - val_loss: 1.3132 - val_acc: 0.9749\n",
      "Epoch 71/200\n",
      "40000/40000 [==============================] - 1s 27us/step - loss: 1.3074 - acc: 0.9750 - val_loss: 1.3137 - val_acc: 0.9748\n",
      "Epoch 72/200\n",
      "40000/40000 [==============================] - 1s 27us/step - loss: 1.3073 - acc: 0.9750 - val_loss: 1.3124 - val_acc: 0.9745\n",
      "Epoch 73/200\n",
      "40000/40000 [==============================] - 1s 27us/step - loss: 1.3073 - acc: 0.9750 - val_loss: 1.3130 - val_acc: 0.9749\n",
      "Epoch 74/200\n",
      "40000/40000 [==============================] - 1s 26us/step - loss: 1.3073 - acc: 0.9752 - val_loss: 1.3126 - val_acc: 0.9750\n",
      "Epoch 75/200\n",
      "40000/40000 [==============================] - 1s 27us/step - loss: 1.3073 - acc: 0.9750 - val_loss: 1.3127 - val_acc: 0.9748\n",
      "Epoch 76/200\n",
      "40000/40000 [==============================] - 1s 26us/step - loss: 1.3070 - acc: 0.9752 - val_loss: 1.3135 - val_acc: 0.9750\n",
      "Epoch 77/200\n",
      "40000/40000 [==============================] - 1s 27us/step - loss: 1.3069 - acc: 0.9751 - val_loss: 1.3123 - val_acc: 0.9752\n",
      "Epoch 78/200\n",
      "40000/40000 [==============================] - 1s 26us/step - loss: 1.3071 - acc: 0.9751 - val_loss: 1.3131 - val_acc: 0.9744\n",
      "Epoch 79/200\n",
      "40000/40000 [==============================] - 1s 27us/step - loss: 1.3068 - acc: 0.9751 - val_loss: 1.3127 - val_acc: 0.9749\n",
      "Epoch 80/200\n",
      "40000/40000 [==============================] - 1s 27us/step - loss: 1.3068 - acc: 0.9751 - val_loss: 1.3127 - val_acc: 0.9734\n",
      "Epoch 81/200\n",
      "40000/40000 [==============================] - 1s 27us/step - loss: 1.3070 - acc: 0.9750 - val_loss: 1.3129 - val_acc: 0.9746\n",
      "Epoch 82/200\n",
      "40000/40000 [==============================] - 1s 27us/step - loss: 1.3068 - acc: 0.9751 - val_loss: 1.3128 - val_acc: 0.9749\n",
      "Epoch 83/200\n",
      "40000/40000 [==============================] - 1s 27us/step - loss: 1.3069 - acc: 0.9752 - val_loss: 1.3124 - val_acc: 0.9746\n",
      "Epoch 84/200\n",
      "40000/40000 [==============================] - 1s 27us/step - loss: 1.3066 - acc: 0.9754 - val_loss: 1.3134 - val_acc: 0.9731\n",
      "Epoch 85/200\n",
      "40000/40000 [==============================] - 1s 27us/step - loss: 1.3068 - acc: 0.9751 - val_loss: 1.3129 - val_acc: 0.9746\n",
      "Epoch 86/200\n",
      "40000/40000 [==============================] - 1s 27us/step - loss: 1.3067 - acc: 0.9752 - val_loss: 1.3122 - val_acc: 0.9747\n",
      "Epoch 87/200\n",
      "40000/40000 [==============================] - 1s 27us/step - loss: 1.3066 - acc: 0.9750 - val_loss: 1.3127 - val_acc: 0.9745\n",
      "Epoch 88/200\n",
      "40000/40000 [==============================] - 1s 27us/step - loss: 1.3071 - acc: 0.9749 - val_loss: 1.3125 - val_acc: 0.9745\n",
      "Epoch 89/200\n",
      "40000/40000 [==============================] - 1s 29us/step - loss: 1.3066 - acc: 0.9753 - val_loss: 1.3130 - val_acc: 0.9739\n",
      "Epoch 90/200\n",
      "40000/40000 [==============================] - 1s 28us/step - loss: 1.3066 - acc: 0.9753 - val_loss: 1.3129 - val_acc: 0.9741\n",
      "Epoch 91/200\n",
      "40000/40000 [==============================] - 1s 27us/step - loss: 1.3067 - acc: 0.9751 - val_loss: 1.3121 - val_acc: 0.9748\n",
      "Epoch 92/200\n",
      "40000/40000 [==============================] - 1s 29us/step - loss: 1.3066 - acc: 0.9751 - val_loss: 1.3123 - val_acc: 0.9747\n",
      "Epoch 93/200\n",
      "40000/40000 [==============================] - 1s 28us/step - loss: 1.3067 - acc: 0.9750 - val_loss: 1.3124 - val_acc: 0.9741\n",
      "Epoch 94/200\n",
      "40000/40000 [==============================] - 1s 27us/step - loss: 1.3063 - acc: 0.9753 - val_loss: 1.3122 - val_acc: 0.9747\n",
      "Epoch 95/200\n",
      "40000/40000 [==============================] - 1s 27us/step - loss: 1.3065 - acc: 0.9750 - val_loss: 1.3121 - val_acc: 0.9749\n",
      "Epoch 96/200\n",
      "40000/40000 [==============================] - 1s 28us/step - loss: 1.3064 - acc: 0.9751 - val_loss: 1.3122 - val_acc: 0.9747\n",
      "Epoch 97/200\n",
      "40000/40000 [==============================] - 1s 27us/step - loss: 1.3064 - acc: 0.9751 - val_loss: 1.3130 - val_acc: 0.9748\n",
      "Epoch 98/200\n",
      "40000/40000 [==============================] - 1s 28us/step - loss: 1.3065 - acc: 0.9751 - val_loss: 1.3123 - val_acc: 0.9750\n",
      "Epoch 99/200\n",
      "40000/40000 [==============================] - 1s 28us/step - loss: 1.3063 - acc: 0.9751 - val_loss: 1.3119 - val_acc: 0.9750\n",
      "Epoch 100/200\n",
      "40000/40000 [==============================] - 1s 27us/step - loss: 1.3067 - acc: 0.9748 - val_loss: 1.3125 - val_acc: 0.9750\n",
      "Epoch 101/200\n",
      "40000/40000 [==============================] - 1s 28us/step - loss: 1.3064 - acc: 0.9750 - val_loss: 1.3125 - val_acc: 0.9747\n",
      "Epoch 102/200\n",
      "40000/40000 [==============================] - 1s 27us/step - loss: 1.3064 - acc: 0.9752 - val_loss: 1.3121 - val_acc: 0.9750\n",
      "Epoch 103/200\n",
      "40000/40000 [==============================] - 1s 27us/step - loss: 1.3064 - acc: 0.9750 - val_loss: 1.3121 - val_acc: 0.9751\n",
      "Epoch 104/200\n",
      "40000/40000 [==============================] - 1s 28us/step - loss: 1.3064 - acc: 0.9751 - val_loss: 1.3120 - val_acc: 0.9751\n"
     ]
    }
   ],
   "source": [
    "# acc does not provide useful info; it gives k-top acc\n",
    "autoencoder.load_weights('init.h5')\n",
    "callbacks = [keras.callbacks.EarlyStopping(monitor='loss', min_delta=0, \n",
    "                                           patience=10, verbose=0,\n",
    "                                           mode='auto', baseline=None,\n",
    "                                           restore_best_weights=True)]\n",
    "\n",
    "historya = autoencoder.fit(xbg_tr, xbg_tr, epochs=200, batch_size=128,\n",
    "                validation_data=(xbg_val,xbg_val),verbose=1,\n",
    "                callbacks=callbacks)"
   ]
  },
  {
   "cell_type": "code",
   "execution_count": 36,
   "metadata": {},
   "outputs": [],
   "source": [
    "autoencoder.save_weights('dense106p2b128.h5')"
   ]
  },
  {
   "cell_type": "code",
   "execution_count": 37,
   "metadata": {},
   "outputs": [
    {
     "name": "stdout",
     "output_type": "stream",
     "text": [
      "24925/24925 [==============================] - 0s 12us/step\n"
     ]
    },
    {
     "data": {
      "text/plain": [
       "[1.2521082553366123, 0.9763289868532714]"
      ]
     },
     "execution_count": 37,
     "metadata": {},
     "output_type": "execute_result"
    }
   ],
   "source": [
    "autoencoder.evaluate(xbg_te,xbg_te,batch_size=128)"
   ]
  },
  {
   "cell_type": "code",
   "execution_count": 38,
   "metadata": {},
   "outputs": [
    {
     "name": "stdout",
     "output_type": "stream",
     "text": [
      "25075/25075 [==============================] - 0s 12us/step\n"
     ]
    },
    {
     "data": {
      "text/plain": [
       "[5.157314957859271, 0.9162911266700577]"
      ]
     },
     "execution_count": 38,
     "metadata": {},
     "output_type": "execute_result"
    }
   ],
   "source": [
    "autoencoder.evaluate(xsig_te,xsig_te,batch_size=128)"
   ]
  },
  {
   "cell_type": "code",
   "execution_count": 39,
   "metadata": {},
   "outputs": [],
   "source": [
    "imbg = autoencoder.predict(xbg_te,batch_size=128)\n",
    "imsig = autoencoder.predict(xsig_te,batch_size=128)"
   ]
  },
  {
   "cell_type": "code",
   "execution_count": 40,
   "metadata": {},
   "outputs": [
    {
     "name": "stdout",
     "output_type": "stream",
     "text": [
      "(24925, 1024) (25075, 1024)\n"
     ]
    }
   ],
   "source": [
    "print(imbg.shape,imsig.shape)"
   ]
  },
  {
   "cell_type": "code",
   "execution_count": 41,
   "metadata": {},
   "outputs": [
    {
     "name": "stdout",
     "output_type": "stream",
     "text": [
      "Sneak at random 10 bg/sig loss\n",
      "Background testing: 0.0010350870434194803\n",
      "Signal testing: 1.4979783296585083\n",
      "Sneak at random 10 bg/sig loss\n",
      "Background testing: 0.25525280833244324\n",
      "Signal testing: 0.2011270523071289\n",
      "Sneak at random 10 bg/sig loss\n",
      "Background testing: 1.785253643989563\n",
      "Signal testing: 0.22214171290397644\n",
      "Sneak at random 10 bg/sig loss\n",
      "Background testing: 0.017471326515078545\n",
      "Signal testing: 1.1660770177841187\n",
      "Sneak at random 10 bg/sig loss\n",
      "Background testing: 5.391115188598633\n",
      "Signal testing: 22.431312561035156\n",
      "Sneak at random 10 bg/sig loss\n",
      "Background testing: 0.00850826408714056\n",
      "Signal testing: 4.14883279800415\n",
      "Sneak at random 10 bg/sig loss\n",
      "Background testing: 8.048612594604492\n",
      "Signal testing: 2.4759559631347656\n",
      "Sneak at random 10 bg/sig loss\n",
      "Background testing: 0.37291577458381653\n",
      "Signal testing: 1.2422308921813965\n",
      "Sneak at random 10 bg/sig loss\n",
      "Background testing: 0.00023783739015925676\n",
      "Signal testing: 0.00830095261335373\n",
      "Sneak at random 10 bg/sig loss\n",
      "Background testing: 5.717594623565674\n",
      "Signal testing: 1.8153764009475708\n"
     ]
    }
   ],
   "source": [
    "for i in random.sample(range(1,24000),10):\n",
    "    print(\"Sneak at random 10 bg/sig loss\")\n",
    "    print(\"Background testing:\",np.sum((xbg_te[i]-imbg[i])**2)/(xbg_te.shape[1]))\n",
    "    print(\"Signal testing:\",np.sum((xsig_te[i]-imsig[i])**2)/(xsig_te.shape[1]))"
   ]
  },
  {
   "cell_type": "code",
   "execution_count": 42,
   "metadata": {},
   "outputs": [
    {
     "name": "stdout",
     "output_type": "stream",
     "text": [
      "Background testing: 0.9864522218704224\n"
     ]
    }
   ],
   "source": [
    "print(\"Background testing:\",np.sum((xbg_te[0]-imbg[0])**2)/(xbg_te.shape[1]))"
   ]
  },
  {
   "cell_type": "code",
   "execution_count": 43,
   "metadata": {},
   "outputs": [],
   "source": [
    "def nAgg(s,e,x,x_hat):\n",
    "    oga = np.copy(x[s].reshape((32,32)))\n",
    "    imga = np.copy(x_hat[s].reshape((32,32)))\n",
    "#     f, ax = plt.subplots(1, 2, figsize=(10, 10))\n",
    "#     ax[0].imshow(oga,cmap=\"Blues\")\n",
    "#     ax[0].set_title(\"Original\")\n",
    "#     ax[1].imshow(imga , cmap=\"Blues\")\n",
    "#     ax[1].set_title(\"Reconstructed\")\n",
    "#     plt.show()    \n",
    "    for i in range(s+1,e):\n",
    "        og = np.reshape(x[i],(32,32))\n",
    "        img = np.reshape(x_hat[i],(32,32))\n",
    "        oga += og\n",
    "        imga += img\n",
    "        \n",
    "    return oga, imga"
   ]
  },
  {
   "cell_type": "code",
   "execution_count": 44,
   "metadata": {},
   "outputs": [
    {
     "data": {
      "image/png": "[encoded data removed]",
      "text/plain": [
       "<Figure size 720x720 with 6 Axes>"
      ]
     },
     "metadata": {
      "needs_background": "light"
     },
     "output_type": "display_data"
    }
   ],
   "source": [
    "ogbg,imgbg = nAgg(0,10000,xbg_te,imbg)\n",
    "ogsig,imgsig = nAgg(0,10000,xsig_te,imsig)\n",
    "\n",
    "f, ax = plt.subplots(2, 3, figsize=(10, 10))\n",
    "ax[0][0].imshow(ogbg,cmap=\"Blues\", vmax=100000)\n",
    "ax[0][0].set_title(\"Original\")\n",
    "ax[0][1].imshow(imgbg , cmap=\"Blues\" , vmax=100000)\n",
    "ax[0][1].set_title(\"Reconstructed\")\n",
    "ax[0][2].imshow((ogbg-imgbg)**2/(32*32) , cmap=\"Blues\", vmax=100000)\n",
    "ax[0][2].set_title(\"Error\")\n",
    "\n",
    "ax[1][0].imshow(ogsig,cmap=\"Reds\" , vmax=100000)\n",
    "ax[1][1].imshow(imgsig , cmap=\"Reds\" , vmax=100000)\n",
    "ax[1][2].imshow((ogsig-imgsig)**2/(32*32) , cmap=\"Reds\", vmax=100000)\n",
    "0\n",
    "plt.savefig(\"dae.png\")\n",
    "plt.show()"
   ]
  },
  {
   "cell_type": "code",
   "execution_count": 45,
   "metadata": {},
   "outputs": [
    {
     "data": {
      "text/plain": [
       "['val_loss', 'val_acc', 'loss', 'acc']"
      ]
     },
     "execution_count": 45,
     "metadata": {},
     "output_type": "execute_result"
    }
   ],
   "source": [
    "list(historya.history.keys())"
   ]
  },
  {
   "cell_type": "code",
   "execution_count": 46,
   "metadata": {},
   "outputs": [],
   "source": [
    "def plot_al(history,aorl):\n",
    "    plt.plot(history.history[aorl])\n",
    "    plt.plot(history.history['val_'+aorl])\n",
    "    plt.title('Dense Autoencoder '+(\"Accuracy\" if aorl==\"acc\" else \"Loss\"))\n",
    "    plt.ylabel(aorl)\n",
    "    plt.xlabel('epoch')\n",
    "    plt.legend(['train', 'test'], loc='upper left')\n",
    "    plt.show()"
   ]
  },
  {
   "cell_type": "code",
   "execution_count": 47,
   "metadata": {},
   "outputs": [
    {
     "data": {
      "image/png": "[encoded data removed]",
      "text/plain": [
       "<Figure size 432x288 with 1 Axes>"
      ]
     },
     "metadata": {
      "needs_background": "light"
     },
     "output_type": "display_data"
    },
    {
     "data": {
      "image/png": "[encoded data removed]",
      "text/plain": [
       "<Figure size 432x288 with 1 Axes>"
      ]
     },
     "metadata": {
      "needs_background": "light"
     },
     "output_type": "display_data"
    }
   ],
   "source": [
    "# batch=128\n",
    "plot_al(historya,'acc')\n",
    "plot_al(historya,'loss')"
   ]
  },
  {
   "cell_type": "code",
   "execution_count": 48,
   "metadata": {},
   "outputs": [],
   "source": [
    "xmixed = np.concatenate((xbg_te,xsig_te))\n",
    "ymixed = np.concatenate((ybg_te,ysig_te))"
   ]
  },
  {
   "cell_type": "code",
   "execution_count": 49,
   "metadata": {},
   "outputs": [
    {
     "name": "stdout",
     "output_type": "stream",
     "text": [
      "(50000, 1024) (50000, 1)\n"
     ]
    }
   ],
   "source": [
    "print(xmixed.shape,ymixed.shape)"
   ]
  },
  {
   "cell_type": "code",
   "execution_count": 50,
   "metadata": {},
   "outputs": [],
   "source": [
    "imall = autoencoder.predict(xmixed,batch_size=128)"
   ]
  },
  {
   "cell_type": "code",
   "execution_count": 51,
   "metadata": {},
   "outputs": [
    {
     "data": {
      "text/plain": [
       "(50000, 1024)"
      ]
     },
     "execution_count": 51,
     "metadata": {},
     "output_type": "execute_result"
    }
   ],
   "source": [
    "imall.shape"
   ]
  },
  {
   "cell_type": "code",
   "execution_count": 52,
   "metadata": {},
   "outputs": [],
   "source": [
    "def evaluate(x,img):\n",
    "    err = np.sum((x-img)**2)/(x.shape[0])\n",
    "    #print(expit((err-65)/10))\n",
    "    return expit(err-1.6), err"
   ]
  },
  {
   "cell_type": "code",
   "execution_count": 53,
   "metadata": {},
   "outputs": [],
   "source": [
    "def preRoc(xs,x_hats):\n",
    "    y_preds = []\n",
    "    errs = []\n",
    "    for i in range(xmixed.shape[0]):\n",
    "        y_pred, errx = evaluate(xs[i],x_hats[i])\n",
    "        y_preds.append(y_pred)\n",
    "        errs.append(errx)\n",
    "        \n",
    "    #print(y_preds)\n",
    "    fpr = dict()\n",
    "    tpr = dict()\n",
    "    roc_auc = dict()\n",
    "    for i in range(2):\n",
    "        fpr[i], tpr[i], _ = roc_curve(ymixed.reshape(ymixed.shape[0]), \n",
    "                                      np.array(y_preds))\n",
    "        roc_auc[i] = auc(fpr[i], tpr[i])\n",
    "    print(roc_auc)\n",
    "    return fpr,tpr,roc_auc, errs, y_preds"
   ]
  },
  {
   "cell_type": "code",
   "execution_count": 54,
   "metadata": {},
   "outputs": [
    {
     "name": "stdout",
     "output_type": "stream",
     "text": [
      "{0: 0.7701099965899693, 1: 0.7701099965899693}\n"
     ]
    },
    {
     "data": {
      "image/png": "[encoded data removed]",
      "text/plain": [
       "<Figure size 432x288 with 1 Axes>"
      ]
     },
     "metadata": {
      "needs_background": "light"
     },
     "output_type": "display_data"
    }
   ],
   "source": [
    "plt.figure()   \n",
    "fpr,tpr,roc_auc,errs,y_preds = preRoc(xmixed,imall)\n",
    "plt.plot(fpr[1], tpr[1],label=\"(AUC={:.2f})\".format(roc_auc[0]))\n",
    "plt.xlim([0.0, 1.0])\n",
    "plt.ylim([0.0, 1.05])\n",
    "plt.xlabel('False Positive Rate')\n",
    "plt.ylabel('True Positive Rate')\n",
    "plt.title('ROC')\n",
    "plt.legend(loc=\"lower right\")\n",
    "plt.savefig(\"daeroc.png\")\n",
    "plt.show()"
   ]
  },
  {
   "cell_type": "code",
   "execution_count": 55,
   "metadata": {},
   "outputs": [
    {
     "name": "stdout",
     "output_type": "stream",
     "text": [
      "1.2521082541105053\n",
      "5.157314958664053\n",
      "0.9864522218704224\n"
     ]
    }
   ],
   "source": [
    "errs = np.array(errs)\n",
    "print(errs[:imbg.shape[0]].mean())\n",
    "print(errs[imbg.shape[0]:].mean())\n",
    "print(errs[0])"
   ]
  },
  {
   "cell_type": "code",
   "execution_count": 56,
   "metadata": {},
   "outputs": [
    {
     "data": {
      "text/plain": [
       "[<matplotlib.lines.Line2D at 0x29bd0c9a3c8>]"
      ]
     },
     "execution_count": 56,
     "metadata": {},
     "output_type": "execute_result"
    },
    {
     "data": {
      "image/png": "[encoded data removed]",
      "text/plain": [
       "<Figure size 432x288 with 1 Axes>"
      ]
     },
     "metadata": {
      "needs_background": "light"
     },
     "output_type": "display_data"
    }
   ],
   "source": [
    "plt.figure()\n",
    "plt.plot(errs)"
   ]
  },
  {
   "cell_type": "code",
   "execution_count": 57,
   "metadata": {},
   "outputs": [
    {
     "name": "stdout",
     "output_type": "stream",
     "text": [
      "0.31450361569290125\n",
      "0.6060758116174911\n",
      "0.1843452457583475\n"
     ]
    }
   ],
   "source": [
    "y_preds = np.array(y_preds)\n",
    "print(y_preds[:imbg.shape[0]].mean())\n",
    "print(y_preds[imbg.shape[0]:].mean())\n",
    "print(y_preds[1])"
   ]
  },
  {
   "cell_type": "code",
   "execution_count": 58,
   "metadata": {},
   "outputs": [
    {
     "data": {
      "text/plain": [
       "65.50228881835938"
      ]
     },
     "execution_count": 58,
     "metadata": {},
     "output_type": "execute_result"
    }
   ],
   "source": [
    "errs[46864]"
   ]
  },
  {
   "cell_type": "code",
   "execution_count": 59,
   "metadata": {},
   "outputs": [
    {
     "data": {
      "text/plain": [
       "1.0"
      ]
     },
     "execution_count": 59,
     "metadata": {},
     "output_type": "execute_result"
    }
   ],
   "source": [
    "y_preds[46864]"
   ]
  },
  {
   "cell_type": "code",
   "execution_count": 60,
   "metadata": {},
   "outputs": [
    {
     "data": {
      "text/plain": [
       "<matplotlib.collections.PathCollection at 0x29bd0532978>"
      ]
     },
     "execution_count": 60,
     "metadata": {},
     "output_type": "execute_result"
    },
    {
     "data": {
      "image/png": "[encoded data removed]",
      "text/plain": [
       "<Figure size 432x288 with 1 Axes>"
      ]
     },
     "metadata": {
      "needs_background": "light"
     },
     "output_type": "display_data"
    }
   ],
   "source": [
    "plt.figure()\n",
    "plt.scatter(errs,y_preds)"
   ]
  },
  {
   "cell_type": "code",
   "execution_count": 76,
   "metadata": {},
   "outputs": [],
   "source": [
    "def writePred(h5,ymixed,y_preds):\n",
    "    hf = h5py.File(h5, 'w')\n",
    "    ymixed = ymixed.reshape(ymixed.shape[0])\n",
    "    assert ymixed.shape == y_preds.shape\n",
    "    hf.create_dataset('y', data=ymixed)\n",
    "    hf.create_dataset('y_pred', data=y_preds)\n",
    "    hf.close()"
   ]
  },
  {
   "cell_type": "code",
   "execution_count": 78,
   "metadata": {},
   "outputs": [],
   "source": [
    "writePred(\"densepred.h5\",ymixed,y_preds)"
   ]
  },
  {
   "cell_type": "code",
   "execution_count": 80,
   "metadata": {},
   "outputs": [
    {
     "name": "stdout",
     "output_type": "stream",
     "text": [
      "(50000,) (50000,)\n"
     ]
    }
   ],
   "source": [
    "ff = h5py.File('./densepred.h5','r')\n",
    "ymixedd,y_predd = ff['y'][:], ff['y_pred'][:]\n",
    "print(ymixedd.shape,y_predd.shape)"
   ]
  },
  {
   "cell_type": "code",
   "execution_count": 81,
   "metadata": {},
   "outputs": [
    {
     "name": "stdout",
     "output_type": "stream",
     "text": [
      "{0: 0.7701099965899693, 1: 0.7701099965899693}\n"
     ]
    }
   ],
   "source": [
    "fprr = dict()\n",
    "tprr = dict()\n",
    "roc_aucc = dict()\n",
    "for i in range(2):\n",
    "    fprr[i], tprr[i], _ = roc_curve(ymixedd, y_predd)\n",
    "    roc_aucc[i] = auc(fprr[i], tprr[i])\n",
    "print(roc_aucc)"
   ]
  },
  {
   "cell_type": "code",
   "execution_count": 82,
   "metadata": {},
   "outputs": [
    {
     "data": {
      "image/png": "[encoded data removed]",
      "text/plain": [
       "<Figure size 432x288 with 1 Axes>"
      ]
     },
     "metadata": {
      "needs_background": "light"
     },
     "output_type": "display_data"
    }
   ],
   "source": [
    "plt.plot(fprr[1], tprr[1],label=\"(AUC={:.2f})\".format(roc_aucc[0]))\n",
    "plt.xlim([0.0, 1.0])\n",
    "plt.ylim([0.0, 1.05])\n",
    "plt.xlabel('False Positive Rate')\n",
    "plt.ylabel('True Positive Rate')\n",
    "plt.title('ROC')\n",
    "plt.legend(loc=\"lower right\")\n",
    "plt.savefig(\"daeroc.png\")\n",
    "plt.show()"
   ]
  },
  {
   "cell_type": "code",
   "execution_count": null,
   "metadata": {},
   "outputs": [],
   "source": []
  }
 ],
 "metadata": {
  "kernelspec": {
   "display_name": "Python 3",
   "language": "python",
   "name": "python3"
  },
  "language_info": {
   "codemirror_mode": {
    "name": "ipython",
    "version": 3
   },
   "file_extension": ".py",
   "mimetype": "text/x-python",
   "name": "python",
   "nbconvert_exporter": "python",
   "pygments_lexer": "ipython3",
   "version": "3.6.8"
  }
 },
 "nbformat": 4,
 "nbformat_minor": 2
}
